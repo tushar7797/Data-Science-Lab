{
 "cells": [
  {
   "cell_type": "code",
   "execution_count": 1,
   "metadata": {},
   "outputs": [],
   "source": [
    "import pandas as pd\n",
    "import numpy as np\n",
    "from matplotlib import pyplot as plt\n",
    "\n",
    "data_chennai = pd.read_csv(\"Data_Chennai.csv\")"
   ]
  },
  {
   "cell_type": "code",
   "execution_count": 18,
   "metadata": {},
   "outputs": [
    {
     "data": {
      "text/html": [
       "<div>\n",
       "<style scoped>\n",
       "    .dataframe tbody tr th:only-of-type {\n",
       "        vertical-align: middle;\n",
       "    }\n",
       "\n",
       "    .dataframe tbody tr th {\n",
       "        vertical-align: top;\n",
       "    }\n",
       "\n",
       "    .dataframe thead th {\n",
       "        text-align: right;\n",
       "    }\n",
       "</style>\n",
       "<table border=\"1\" class=\"dataframe\">\n",
       "  <thead>\n",
       "    <tr style=\"text-align: right;\">\n",
       "      <th></th>\n",
       "      <th>Unnamed: 0</th>\n",
       "      <th>Unnamed: 0.1</th>\n",
       "      <th>distress_name</th>\n",
       "      <th>distress_address</th>\n",
       "      <th>distress_contact_no</th>\n",
       "      <th>police_station_id</th>\n",
       "      <th>city_zone_id</th>\n",
       "      <th>event_maintype_id</th>\n",
       "      <th>event_subtype_id</th>\n",
       "      <th>priority_id</th>\n",
       "      <th>...</th>\n",
       "      <th>city_id</th>\n",
       "      <th>sdo_id</th>\n",
       "      <th>town_id</th>\n",
       "      <th>range_id</th>\n",
       "      <th>is_same_name</th>\n",
       "      <th>is_same_contact_no</th>\n",
       "      <th>area_location_id</th>\n",
       "      <th>submit_to_ps_status</th>\n",
       "      <th>state_zone_id</th>\n",
       "      <th>ward_number</th>\n",
       "    </tr>\n",
       "  </thead>\n",
       "  <tbody>\n",
       "    <tr>\n",
       "      <th>0</th>\n",
       "      <td>0</td>\n",
       "      <td>1</td>\n",
       "      <td>RAGUL</td>\n",
       "      <td>BV COLONY,  31th STREET,  NEAR AMBEDKAR COLLEG...</td>\n",
       "      <td>8.248148e+09</td>\n",
       "      <td>1214.0</td>\n",
       "      <td>3.0</td>\n",
       "      <td>270.0</td>\n",
       "      <td>286.0</td>\n",
       "      <td>2</td>\n",
       "      <td>...</td>\n",
       "      <td>32.0</td>\n",
       "      <td>207.0</td>\n",
       "      <td>NaN</td>\n",
       "      <td>12.0</td>\n",
       "      <td>0</td>\n",
       "      <td>0</td>\n",
       "      <td>-1.0</td>\n",
       "      <td>1.0</td>\n",
       "      <td>5.0</td>\n",
       "      <td>131</td>\n",
       "    </tr>\n",
       "    <tr>\n",
       "      <th>1</th>\n",
       "      <td>4</td>\n",
       "      <td>5</td>\n",
       "      <td>JAMROOD MOHAMED</td>\n",
       "      <td>THAMBU CHETTY STREET PARRYS CHENNAI LAND MARK:...</td>\n",
       "      <td>4.442015e+09</td>\n",
       "      <td>1197.0</td>\n",
       "      <td>2.0</td>\n",
       "      <td>245.0</td>\n",
       "      <td>181.0</td>\n",
       "      <td>2</td>\n",
       "      <td>...</td>\n",
       "      <td>32.0</td>\n",
       "      <td>202.0</td>\n",
       "      <td>NaN</td>\n",
       "      <td>12.0</td>\n",
       "      <td>0</td>\n",
       "      <td>0</td>\n",
       "      <td>NaN</td>\n",
       "      <td>1.0</td>\n",
       "      <td>5.0</td>\n",
       "      <td>157</td>\n",
       "    </tr>\n",
       "    <tr>\n",
       "      <th>2</th>\n",
       "      <td>5</td>\n",
       "      <td>6</td>\n",
       "      <td>NOT WILLING</td>\n",
       "      <td>LANDMARK  RAIN TREE HOTEL MOUNT ROAD ANNA SALA...</td>\n",
       "      <td>9.790978e+09</td>\n",
       "      <td>1269.0</td>\n",
       "      <td>4.0</td>\n",
       "      <td>245.0</td>\n",
       "      <td>481.0</td>\n",
       "      <td>2</td>\n",
       "      <td>...</td>\n",
       "      <td>32.0</td>\n",
       "      <td>229.0</td>\n",
       "      <td>-1.0</td>\n",
       "      <td>12.0</td>\n",
       "      <td>0</td>\n",
       "      <td>0</td>\n",
       "      <td>-1.0</td>\n",
       "      <td>1.0</td>\n",
       "      <td>5.0</td>\n",
       "      <td>20</td>\n",
       "    </tr>\n",
       "    <tr>\n",
       "      <th>3</th>\n",
       "      <td>8</td>\n",
       "      <td>9</td>\n",
       "      <td>NaN</td>\n",
       "      <td>SALIGARMAM,, GANDHI NAGAR, CANARA  BANK COLONY...</td>\n",
       "      <td>9.965430e+09</td>\n",
       "      <td>1494.0</td>\n",
       "      <td>6.0</td>\n",
       "      <td>229.0</td>\n",
       "      <td>375.0</td>\n",
       "      <td>2</td>\n",
       "      <td>...</td>\n",
       "      <td>32.0</td>\n",
       "      <td>NaN</td>\n",
       "      <td>24913.0</td>\n",
       "      <td>12.0</td>\n",
       "      <td>0</td>\n",
       "      <td>0</td>\n",
       "      <td>NaN</td>\n",
       "      <td>1.0</td>\n",
       "      <td>5.0</td>\n",
       "      <td>32</td>\n",
       "    </tr>\n",
       "    <tr>\n",
       "      <th>4</th>\n",
       "      <td>10</td>\n",
       "      <td>11</td>\n",
       "      <td>MANIVANNAN</td>\n",
       "      <td>BHARATHIDHASAN EAST  STREET CAUVERY NAGAR LM:M...</td>\n",
       "      <td>7.449057e+09</td>\n",
       "      <td>1251.0</td>\n",
       "      <td>4.0</td>\n",
       "      <td>245.0</td>\n",
       "      <td>195.0</td>\n",
       "      <td>2</td>\n",
       "      <td>...</td>\n",
       "      <td>32.0</td>\n",
       "      <td>222.0</td>\n",
       "      <td>-1.0</td>\n",
       "      <td>12.0</td>\n",
       "      <td>0</td>\n",
       "      <td>0</td>\n",
       "      <td>-1.0</td>\n",
       "      <td>1.0</td>\n",
       "      <td>5.0</td>\n",
       "      <td>47</td>\n",
       "    </tr>\n",
       "  </tbody>\n",
       "</table>\n",
       "<p>5 rows × 45 columns</p>\n",
       "</div>"
      ],
      "text/plain": [
       "   Unnamed: 0  Unnamed: 0.1    distress_name  \\\n",
       "0           0             1            RAGUL   \n",
       "1           4             5  JAMROOD MOHAMED   \n",
       "2           5             6      NOT WILLING   \n",
       "3           8             9              NaN   \n",
       "4          10            11       MANIVANNAN   \n",
       "\n",
       "                                    distress_address  distress_contact_no  \\\n",
       "0  BV COLONY,  31th STREET,  NEAR AMBEDKAR COLLEG...         8.248148e+09   \n",
       "1  THAMBU CHETTY STREET PARRYS CHENNAI LAND MARK:...         4.442015e+09   \n",
       "2  LANDMARK  RAIN TREE HOTEL MOUNT ROAD ANNA SALA...         9.790978e+09   \n",
       "3  SALIGARMAM,, GANDHI NAGAR, CANARA  BANK COLONY...         9.965430e+09   \n",
       "4  BHARATHIDHASAN EAST  STREET CAUVERY NAGAR LM:M...         7.449057e+09   \n",
       "\n",
       "   police_station_id  city_zone_id  event_maintype_id  event_subtype_id  \\\n",
       "0             1214.0           3.0              270.0             286.0   \n",
       "1             1197.0           2.0              245.0             181.0   \n",
       "2             1269.0           4.0              245.0             481.0   \n",
       "3             1494.0           6.0              229.0             375.0   \n",
       "4             1251.0           4.0              245.0             195.0   \n",
       "\n",
       "   priority_id  ... city_id sdo_id  town_id range_id  is_same_name  \\\n",
       "0            2  ...    32.0  207.0      NaN     12.0             0   \n",
       "1            2  ...    32.0  202.0      NaN     12.0             0   \n",
       "2            2  ...    32.0  229.0     -1.0     12.0             0   \n",
       "3            2  ...    32.0    NaN  24913.0     12.0             0   \n",
       "4            2  ...    32.0  222.0     -1.0     12.0             0   \n",
       "\n",
       "   is_same_contact_no  area_location_id  submit_to_ps_status  state_zone_id  \\\n",
       "0                   0              -1.0                  1.0            5.0   \n",
       "1                   0               NaN                  1.0            5.0   \n",
       "2                   0              -1.0                  1.0            5.0   \n",
       "3                   0               NaN                  1.0            5.0   \n",
       "4                   0              -1.0                  1.0            5.0   \n",
       "\n",
       "   ward_number  \n",
       "0          131  \n",
       "1          157  \n",
       "2           20  \n",
       "3           32  \n",
       "4           47  \n",
       "\n",
       "[5 rows x 45 columns]"
      ]
     },
     "execution_count": 18,
     "metadata": {},
     "output_type": "execute_result"
    }
   ],
   "source": [
    "data_chennai.head()"
   ]
  },
  {
   "cell_type": "code",
   "execution_count": 181,
   "metadata": {},
   "outputs": [],
   "source": [
    "x = data_chennai[\"event_maintype_id\"].value_counts()\n",
    "pd.set_option('display.max_rows', 1000)"
   ]
  },
  {
   "cell_type": "code",
   "execution_count": 283,
   "metadata": {},
   "outputs": [],
   "source": [
    "import os\n",
    "from shapely.geometry import MultiPoint\n",
    "eps = 0.005\n",
    "\n",
    "nodes = []\n",
    "ward = []\n",
    "median = []\n",
    "for i in os.listdir(\"Ward_info\"):\n",
    "    a = []\n",
    "    for n in i[4:]:\n",
    "    \n",
    "        if (n == \"_\"):\n",
    "            break\n",
    "        a.append(n)\n",
    "        \n",
    "    b = ''.join(map(str, a))\n",
    "    ward.append(int(b))\n",
    "    b = pd.read_excel(\"Ward_info/\" + i)\n",
    "    \n",
    "    node = []\n",
    "    for i in range(b.shape[0]):\n",
    "        lat = b.iloc[i,2]\n",
    "        lon = b.iloc[i,3]\n",
    "        node.append([lat,lon])    \n",
    "    boundary = Polygon(node)\n",
    "    fx = boundary.buffer(eps, 1, join_style=JOIN_STYLE.mitre).buffer(-eps, 1, join_style=JOIN_STYLE.mitre)\n",
    "    nodes.append(boundary)\n",
    "    median.append(boundary.centroid)\n",
    "    "
   ]
  },
  {
   "cell_type": "code",
   "execution_count": 257,
   "metadata": {},
   "outputs": [
    {
     "name": "stdout",
     "output_type": "stream",
     "text": [
      "POINT (13.08345410794673 80.28919994760835)\n"
     ]
    },
    {
     "data": {
      "image/svg+xml": [
       "<svg xmlns=\"http://www.w3.org/2000/svg\" xmlns:xlink=\"http://www.w3.org/1999/xlink\" width=\"100.0\" height=\"100.0\" viewBox=\"13.065800520000002 80.27364212 0.038317859999997594 0.03147346000000084\" preserveAspectRatio=\"xMinYMin meet\"><g transform=\"matrix(1,0,0,-1,0,160.5787577)\"><path fill-rule=\"evenodd\" fill=\"#ff3333\" stroke=\"#555555\" stroke-width=\"0.0007663571999999519\" opacity=\"0.6\" d=\"M 13.0722071,80.275234 L 13.0987171,80.2912358 L 13.084711,80.2833277 L 13.0822808,80.2817281 L 13.0812362,80.2808525 L 13.0804353,80.2807798 L 13.0789246,80.2820693 L 13.0723491,80.2750613 L 13.0689243,80.2840129 L 13.0672197,80.2895334 L 13.0685976,80.2817355 L 13.0686884,80.2806335 L 13.0904683,80.301118 L 13.0856022,80.2846527 L 13.088429,80.285334 L 13.1021013,80.2975354 L 13.102461,80.2958733 L 13.1025759,80.2954764 L 13.1025024,80.2949648 L 13.1025685,80.2942656 L 13.1026992,80.2905951 L 13.0989375,80.2899604 L 13.09613,80.2906632 L 13.0968223,80.2865291 L 13.0939744,80.2862253 L 13.0896716,80.2853607 L 13.0709819,80.2767241 L 13.0694038,80.279063 L 13.079541,80.2946949 L 13.0930845,80.3023445 L 13.0966165,80.3036964 L 13.0984034,80.3031814 L 13.1002948,80.2981281 L 13.1015279,80.2974415 L 13.1010576,80.2975058 L 13.0979227,80.3035784 L 13.0722071,80.275234 z\" /></g></svg>"
      ],
      "text/plain": [
       "<shapely.geometry.polygon.Polygon at 0x1cb9a521208>"
      ]
     },
     "execution_count": 257,
     "metadata": {},
     "output_type": "execute_result"
    }
   ],
   "source": [
    "from shapely.geometry.polygon import Polygon\n",
    "from shapely.geometry import shape, JOIN_STYLE\n",
    "\n",
    "nodes = []\n",
    "b = pd.read_excel(\"Ward_info/\" + \"ward60_boundarynodes.xlsx\")\n",
    "for i in range(b.shape[0]):\n",
    "    lat = b.iloc[i,2]\n",
    "    lon = b.iloc[i,3]\n",
    "    \n",
    "    nodes.append((lat,lon))\n",
    "    \n",
    "points = Polygon(nodes)\n",
    "eps = 0.005\n",
    "fx = points.buffer(eps, 1, join_style=JOIN_STYLE.mitre).buffer(-eps, 1, join_style=JOIN_STYLE.mitre)\n",
    "    \n",
    "print(points.centroid)\n",
    "points.area\n",
    "points"
   ]
  },
  {
   "cell_type": "code",
   "execution_count": 203,
   "metadata": {},
   "outputs": [
    {
     "name": "stdout",
     "output_type": "stream",
     "text": [
      "POINT (13.16142539355097 80.21324442066712)\n"
     ]
    },
    {
     "data": {
      "text/plain": [
       "False"
      ]
     },
     "execution_count": 203,
     "metadata": {},
     "output_type": "execute_result"
    }
   ],
   "source": [
    "from shapely.geometry import MultiPoint, Point\n",
    "\n",
    "a = Point([13.09374303,80.2886835])\n",
    "print(points.centroid)\n",
    "points.contains(points.centroid)"
   ]
  },
  {
   "cell_type": "code",
   "execution_count": 282,
   "metadata": {},
   "outputs": [],
   "source": [
    "data_chennai = pd.read_csv(\"Data_Chennai.csv\")"
   ]
  },
  {
   "cell_type": "code",
   "execution_count": 208,
   "metadata": {},
   "outputs": [],
   "source": [
    "sample = data_chennai.iloc[0:15,:]"
   ]
  },
  {
   "cell_type": "code",
   "execution_count": 287,
   "metadata": {},
   "outputs": [],
   "source": [
    "lat = data_chennai[\"latitude\"]\n",
    "lon = data_chennai[\"longitude\"]"
   ]
  },
  {
   "cell_type": "code",
   "execution_count": 292,
   "metadata": {},
   "outputs": [],
   "source": [
    "ward_number = []\n",
    "ward_lat_med = []\n",
    "ward_lon_med = []\n",
    "\n",
    "\n",
    "for i in range(0,data_chennai.shape[0]):\n",
    "    pair = Point([lat[i],lon[i]])\n",
    "    for a in range(0,len(ward)):\n",
    "        if(nodes[a].contains(pair)):\n",
    "            ward_number.append(ward[a])\n",
    "            ward_lat_med.append(list(median[a].coords)[0][0])\n",
    "            ward_lon_med.append(list(median[a].coords)[0][1])\n",
    "            break\n",
    "    "
   ]
  },
  {
   "cell_type": "code",
   "execution_count": 293,
   "metadata": {},
   "outputs": [],
   "source": [
    "data_chennai[\"ward_number\"] = ward_number\n",
    "data_chennai[\"ward_lat\"] = ward_lat_med\n",
    "data_chennai[\"ward_lon\"] = ward_lon_med"
   ]
  },
  {
   "cell_type": "code",
   "execution_count": 291,
   "metadata": {},
   "outputs": [
    {
     "data": {
      "text/plain": [
       "94567"
      ]
     },
     "execution_count": 291,
     "metadata": {},
     "output_type": "execute_result"
    }
   ],
   "source": [
    "len(data_chennai)"
   ]
  },
  {
   "cell_type": "code",
   "execution_count": null,
   "metadata": {},
   "outputs": [],
   "source": []
  }
 ],
 "metadata": {
  "kernelspec": {
   "display_name": "Python 3",
   "language": "python",
   "name": "python3"
  },
  "language_info": {
   "codemirror_mode": {
    "name": "ipython",
    "version": 3
   },
   "file_extension": ".py",
   "mimetype": "text/x-python",
   "name": "python",
   "nbconvert_exporter": "python",
   "pygments_lexer": "ipython3",
   "version": "3.7.5"
  }
 },
 "nbformat": 4,
 "nbformat_minor": 2
}
