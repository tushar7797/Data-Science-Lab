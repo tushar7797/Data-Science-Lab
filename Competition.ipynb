{
 "cells": [
  {
   "cell_type": "markdown",
   "metadata": {},
   "source": [
    "# Yale Faces "
   ]
  },
  {
   "cell_type": "markdown",
   "metadata": {},
   "source": [
    "## Importing Libraries"
   ]
  },
  {
   "cell_type": "code",
   "execution_count": 4,
   "metadata": {},
   "outputs": [],
   "source": [
    "%matplotlib inline\n",
    "import numpy as np\n",
    "import scipy.misc\n",
    "import cv2\n",
    "import matplotlib.pyplot as plt\n",
    "from scipy.ndimage import zoom\n",
    "import scipy.misc\n",
    "import os\n",
    "import warnings\n",
    "warnings.filterwarnings(\"ignore\")\n"
   ]
  },
  {
   "cell_type": "markdown",
   "metadata": {},
   "source": [
    "## Reading the Dataset: Yale Faces"
   ]
  },
  {
   "cell_type": "code",
   "execution_count": 5,
   "metadata": {},
   "outputs": [],
   "source": [
    "#Create the FaceCascader\n",
    "cascPath = \"haarcascade_frontalface_default.xml\"\n",
    "faceCascade = cv2.CascadeClassifier(cascPath)\n",
    "#Initialize the number of persons\n",
    "persons = 0\n",
    "#Loading the data\n",
    "full_face_yale = []\n",
    "full_labels_yale = []\n",
    "all_images_yale = os.listdir('yalefaces')\n",
    "for j in range(1,16):    # there are 15 different people in the dataset\n",
    "    img_list = [filename for filename in all_images_yale if filename.startswith('subject%.2d'%j)]\n",
    "    face1 = np.zeros((len(img_list),80,60))\n",
    "    for k,img in enumerate(img_list):\n",
    "        I = scipy.misc.imread(os.path.join('yalefaces',img))\n",
    "        faces = faceCascade.detectMultiScale(\n",
    "            I,\n",
    "            scaleFactor=1.1,\n",
    "            minNeighbors=5,\n",
    "            minSize=(30, 30))\n",
    "        x,y,h,w = faces[0]\n",
    "        face1[k,...] = zoom(I[y:y+h,x:x+w],[80./h,60./w])\n",
    "    labels = (j-1)*np.ones((11,))\n",
    "    full_face_yale.append(face1)\n",
    "    full_labels_yale.append(labels)\n",
    "full_face_yale = np.stack(full_face_yale)    # contains the images of all faces\n",
    "full_labels_yale = np.stack(full_labels_yale)   # contains the ID of all the faces\n",
    "persons = len(full_labels_yale)"
   ]
  },
  {
   "cell_type": "code",
   "execution_count": 6,
   "metadata": {},
   "outputs": [
    {
     "data": {
      "text/plain": [
       "15"
      ]
     },
     "execution_count": 6,
     "metadata": {},
     "output_type": "execute_result"
    }
   ],
   "source": [
    "persons"
   ]
  },
  {
   "cell_type": "code",
   "execution_count": 7,
   "metadata": {},
   "outputs": [
    {
     "name": "stdout",
     "output_type": "stream",
     "text": [
      "(15, 11, 80, 60)\n",
      "(15, 11)\n"
     ]
    }
   ],
   "source": [
    "#Get the shape\n",
    "print(full_face_yale.shape)\n",
    "print(full_labels_yale.shape)"
   ]
  },
  {
   "cell_type": "markdown",
   "metadata": {},
   "source": [
    "# Reading the Dataset: JaffedBase"
   ]
  },
  {
   "cell_type": "code",
   "execution_count": 8,
   "metadata": {},
   "outputs": [],
   "source": [
    "#Get all the images\n",
    "all_images_jaffe = os.listdir('jaffedbase/jaffe')\n",
    "img_list = [filename for filename in all_images_jaffe if filename.endswith('.tiff')]\n",
    "#Get the names and poses\n",
    "names = [] \n",
    "poses = []\n",
    "for i in range(len(img_list)):\n",
    "    names.append(str.split(img_list[i], sep = '.')[0])\n",
    "    poses.append(str.split(img_list[i],sep = '.')[1][0:2])\n",
    "#Store the unique names and poses\n",
    "names = np.unique(np.array(names))\n",
    "poses = np.unique(np.array(poses))"
   ]
  },
  {
   "cell_type": "code",
   "execution_count": 9,
   "metadata": {},
   "outputs": [],
   "source": [
    "#Store the images of every Japanese model along with their respective poses\n",
    "full_face_jaffed = np.zeros(shape = (len(names),len(poses),80,60))\n",
    "full_labels_jaffed = np.zeros(shape=(len(names),len(poses)))\n",
    "for i,name in enumerate(names):\n",
    "    images_person = [filename for filename in all_images_jaffe if filename.startswith(name)]\n",
    "    for j,pose in enumerate(poses):\n",
    "        images_person_pose = [filename for filename in images_person if filename.startswith(name+'.'+ pose)]\n",
    "        particular_image = images_person_pose[0]\n",
    "        I = scipy.misc.imread(os.path.join(os.getcwd()+'\\jaffedbase\\jaffe',particular_image))\n",
    "        if(len(I.shape) == 3):\n",
    "            I = I[...,0]\n",
    "        faces = faceCascade.detectMultiScale(\n",
    "            I,\n",
    "            scaleFactor=1.1,\n",
    "            minNeighbors=5,\n",
    "            minSize=(30, 30))\n",
    "        x,y,h,w = faces[0]\n",
    "        face1= zoom(I[y:y+h,x:x+w],[80./h,60./w])\n",
    "        full_face_jaffed[i,j,...] = face1\n",
    "        full_labels_jaffed[i,j] = i+persons #Jaffed Database represents 15th person onwards"
   ]
  },
  {
   "cell_type": "code",
   "execution_count": 10,
   "metadata": {},
   "outputs": [
    {
     "name": "stdout",
     "output_type": "stream",
     "text": [
      "15\n"
     ]
    }
   ],
   "source": [
    "persons = persons + len(full_labels_jaffed)\n",
    "print(persons)"
   ]
  },
  {
   "cell_type": "markdown",
   "metadata": {},
   "source": [
    "# Reading the Dataset: Faces94"
   ]
  },
  {
   "cell_type": "code",
   "execution_count": 11,
   "metadata": {},
   "outputs": [],
   "source": [
    "#Get all the images: 10 female, 10 male"
   ]
  },
  {
   "cell_type": "code",
   "execution_count": 12,
   "metadata": {},
   "outputs": [],
   "source": [
    "all_images_94_female = os.listdir('faces94/faces94/female')\n",
    "all_images_94_male = os.listdir('faces94/faces94/male')\n",
    "female_img_list = [filename for filename in all_images_94_female]\n",
    "male_img_list = [filename for filename in all_images_94_male]\n",
    "#Take the first 3 image files\n",
    "female_img_list = female_img_list[0:10]\n",
    "male_img_list = male_img_list[0:10]"
   ]
  },
  {
   "cell_type": "code",
   "execution_count": 13,
   "metadata": {},
   "outputs": [],
   "source": [
    "#Number of individuals: 10 - 5 female, 5 male\n",
    "#Number of poses: 10\n",
    "#Read in female data\n",
    "full_faces_94_female = np.zeros(shape = (10,10,80,60))\n",
    "full_labels_94_female = np.zeros(shape = (10,10))\n",
    "full_faces_94_male = np.zeros(shape = (10,10,80,60))\n",
    "full_labels_94_male = np.zeros(shape = (10,10))\n",
    "path = os.getcwd() +'/faces94/faces94/female'\n",
    "for i,indiv_image in enumerate(female_img_list):\n",
    "    path1 = path + '/'+ indiv_image\n",
    "    for j in range(7):\n",
    "        img = os.listdir(path1)[j]    \n",
    "        I = scipy.misc.imread(os.path.join(path1,img),flatten = True)\n",
    "        I = cv2.resize(I, (60,80))\n",
    "        full_faces_94_female[i,j,...] = I\n",
    "        full_labels_94_female[i,j] = i+persons \n",
    "persons = persons + len(full_labels_94_female)\n",
    "#Read in male data\n",
    "for i,indiv_image in enumerate(female_img_list):\n",
    "    path1 = path + '/'+ indiv_image\n",
    "    for j in range(7):\n",
    "        img = os.listdir(path1)[j]    \n",
    "        I = scipy.misc.imread(os.path.join(path1,img),flatten = True)\n",
    "        I = cv2.resize(I, (60,80))\n",
    "        full_faces_94_male[i,j,...] = I\n",
    "        full_labels_94_male[i,j] = i+persons\n",
    "full_faces_94 = np.vstack((full_faces_94_female,full_faces_94_male))\n",
    "full_labels_94 = np.vstack((full_labels_94_female,full_labels_94_male))"
   ]
  },
  {
   "cell_type": "code",
   "execution_count": 14,
   "metadata": {},
   "outputs": [
    {
     "data": {
      "text/plain": [
       "(20, 10, 80, 60)"
      ]
     },
     "execution_count": 14,
     "metadata": {},
     "output_type": "execute_result"
    }
   ],
   "source": [
    "full_faces_94.shape"
   ]
  },
  {
   "cell_type": "markdown",
   "metadata": {},
   "source": [
    "# Consolidate the Dataset"
   ]
  },
  {
   "cell_type": "code",
   "execution_count": 15,
   "metadata": {},
   "outputs": [],
   "source": [
    "#Copy\n",
    "full_face = full_face_yale\n",
    "full_labels = full_labels_yale\n",
    "del full_face_yale\n",
    "del full_labels_yale"
   ]
  },
  {
   "cell_type": "code",
   "execution_count": 16,
   "metadata": {},
   "outputs": [
    {
     "ename": "NameError",
     "evalue": "name 'train_labels' is not defined",
     "output_type": "error",
     "traceback": [
      "\u001b[0;31m\u001b[0m",
      "\u001b[0;31mNameError\u001b[0mTraceback (most recent call last)",
      "\u001b[0;32m<ipython-input-16-3257ea730cac>\u001b[0m in \u001b[0;36m<module>\u001b[0;34m()\u001b[0m\n\u001b[0;32m----> 1\u001b[0;31m \u001b[0mtrain_labels\u001b[0m\u001b[0;34m\u001b[0m\u001b[0m\n\u001b[0m",
      "\u001b[0;31mNameError\u001b[0m: name 'train_labels' is not defined"
     ]
    }
   ],
   "source": [
    "train_labels"
   ]
  },
  {
   "cell_type": "code",
   "execution_count": 17,
   "metadata": {},
   "outputs": [
    {
     "ename": "NameError",
     "evalue": "name 'train_set' is not defined",
     "output_type": "error",
     "traceback": [
      "\u001b[0;31m\u001b[0m",
      "\u001b[0;31mNameError\u001b[0mTraceback (most recent call last)",
      "\u001b[0;32m<ipython-input-17-98625377cbb4>\u001b[0m in \u001b[0;36m<module>\u001b[0;34m()\u001b[0m\n\u001b[1;32m      1\u001b[0m \u001b[0mget_ipython\u001b[0m\u001b[0;34m(\u001b[0m\u001b[0;34m)\u001b[0m\u001b[0;34m.\u001b[0m\u001b[0mmagic\u001b[0m\u001b[0;34m(\u001b[0m\u001b[0;34mu'matplotlib inline'\u001b[0m\u001b[0;34m)\u001b[0m\u001b[0;34m\u001b[0m\u001b[0m\n\u001b[0;32m----> 2\u001b[0;31m \u001b[0mcv2\u001b[0m\u001b[0;34m.\u001b[0m\u001b[0mimshow\u001b[0m\u001b[0;34m(\u001b[0m\u001b[0;34m\"aa\"\u001b[0m\u001b[0;34m,\u001b[0m\u001b[0mtrain_set\u001b[0m\u001b[0;34m[\u001b[0m\u001b[0;36m1\u001b[0m\u001b[0;34m]\u001b[0m\u001b[0;34m)\u001b[0m\u001b[0;34m\u001b[0m\u001b[0m\n\u001b[0m\u001b[1;32m      3\u001b[0m \u001b[0mcv2\u001b[0m\u001b[0;34m.\u001b[0m\u001b[0mwaitKey\u001b[0m\u001b[0;34m(\u001b[0m\u001b[0;36m10\u001b[0m\u001b[0;34m)\u001b[0m\u001b[0;34m\u001b[0m\u001b[0m\n\u001b[1;32m      4\u001b[0m \u001b[0mcv2\u001b[0m\u001b[0;34m.\u001b[0m\u001b[0mdestroyAllWindows\u001b[0m\u001b[0;34m(\u001b[0m\u001b[0;34m)\u001b[0m\u001b[0;34m\u001b[0m\u001b[0m\n",
      "\u001b[0;31mNameError\u001b[0m: name 'train_set' is not defined"
     ]
    }
   ],
   "source": [
    "%matplotlib inline\n",
    "cv2.imshow(\"aa\",train_set[1])\n",
    "cv2.waitKey(10)\n",
    "cv2.destroyAllWindows()"
   ]
  },
  {
   "cell_type": "code",
   "execution_count": 18,
   "metadata": {},
   "outputs": [],
   "source": [
    "#Function for Gaussian Blurring\n",
    "def gaussian_blur(full_face):\n",
    "    blur = np.zeros(full_face.shape)\n",
    "    for i in range(full_face.shape[0]):\n",
    "        blur[i,...]=cv2.GaussianBlur(full_face[i,...],(5,5),0)\n",
    "    return(blur)"
   ]
  },
  {
   "cell_type": "code",
   "execution_count": 19,
   "metadata": {},
   "outputs": [],
   "source": [
    "# divide the data into train and test\n",
    "# pick 2 images from each dataset and put it into test set\n",
    "\n",
    "#Training Data\n",
    "train_set = np.zeros((full_face.shape[0],9,80,60))\n",
    "train_set_jaffed = np.zeros((full_face_jaffed.shape[0],5,80,60))\n",
    "train_set_94 = np.zeros((full_faces_94.shape[0],8,80,60))\n",
    "#Test Data\n",
    "test_set = np.zeros((full_face.shape[0],2,80,60))\n",
    "test_set_jaffed =  np.zeros((full_face_jaffed.shape[0],2,80,60))\n",
    "test_set_94 = np.zeros((full_faces_94.shape[0],2,80,60))\n",
    "#Train Labels\n",
    "train_labels = np.zeros((full_face.shape[0],9))\n",
    "train_labels_jaffed = np.zeros((full_face_jaffed.shape[0],5))\n",
    "train_labels_94 = np.zeros((full_faces_94.shape[0],8))\n",
    "#Test Labels\n",
    "test_labels = np.zeros((full_face.shape[0],2))\n",
    "test_labels_jaffed = np.zeros((full_face_jaffed.shape[0],2))\n",
    "test_labels_94 = np.zeros((full_faces_94.shape[0],2))\n",
    "#Loop for Yale Faces A\n",
    "for k in range(full_face.shape[0]):\n",
    "    g = np.random.permutation(11)   # randomly select the 9 faces\n",
    "    train_set[k,...] = full_face[k,g[:9],...]\n",
    "    train_labels[k,...] = full_labels[k,g[:9]]\n",
    "    test_set = full_face[:,g[9:],...]\n",
    "    test_labels[k,...] = full_labels[k,g[9:]]\n",
    "    \n",
    "#Loop for Japanese \n",
    "for k in range(full_face_jaffed.shape[0]):\n",
    "    g = np.random.permutation(7)   # randomly select the 5 faces\n",
    "    train_set_jaffed[k,...] = full_face_jaffed[k,g[:5],...]\n",
    "    train_labels_jaffed[k,...] = full_labels_jaffed[k,g[:5]]\n",
    "    test_set_jaffed = full_face_jaffed[:,g[5:],...]\n",
    "    test_labels_jaffed[k,...] = full_labels_jaffed[k,g[5:]]\n",
    "    \n",
    "#Loop for Faces_94\n",
    "for k in range(full_faces_94.shape[0]):\n",
    "    g = np.random.permutation(10)   # randomly select the 8 faces\n",
    "    train_set_94[k,...] = full_faces_94[k,g[:8],...]\n",
    "    train_labels_94[k,...] = full_labels_94[k,g[:8]]\n",
    "    test_set_94 = full_faces_94[:,g[8:],...]\n",
    "    test_labels_94[k,...] = full_labels_94[k,g[8:]]"
   ]
  },
  {
   "cell_type": "code",
   "execution_count": 20,
   "metadata": {},
   "outputs": [],
   "source": [
    "#Apply Gaussian Blur\n",
    "#train_set = gaussian_blur(train_set)\n",
    "#test_set = gaussian_blur(test_set)"
   ]
  },
  {
   "cell_type": "code",
   "execution_count": 21,
   "metadata": {},
   "outputs": [
    {
     "data": {
      "text/plain": [
       "(15, 9, 80, 60)"
      ]
     },
     "execution_count": 21,
     "metadata": {},
     "output_type": "execute_result"
    }
   ],
   "source": [
    "train_set.shape"
   ]
  },
  {
   "cell_type": "markdown",
   "metadata": {},
   "source": [
    "# Feature Extraction"
   ]
  },
  {
   "cell_type": "code",
   "execution_count": 22,
   "metadata": {},
   "outputs": [
    {
     "name": "stdout",
     "output_type": "stream",
     "text": [
      "255.0\n"
     ]
    }
   ],
   "source": [
    "from skimage.feature import local_binary_pattern\n",
    "#Reshaping Train Set\n",
    "train_set = np.reshape(train_set,[-1,80,60])\n",
    "train_set_jaffed = np.reshape(train_set_jaffed,[-1,80,60])\n",
    "train_set_94 = np.reshape(train_set_94,[-1,80,60])\n",
    "train_set = np.vstack((train_set,train_set_jaffed,train_set_94))\n",
    "del train_set_jaffed\n",
    "#Reshaping Train Labels\n",
    "train_labels = np.reshape(train_labels,[-1,])\n",
    "train_labels_jaffed = np.reshape(train_labels_jaffed,[-1,])\n",
    "train_labels_94 = np.reshape(train_labels_94,[-1,])\n",
    "train_labels = np.hstack((train_labels,train_labels_jaffed,train_labels_94))\n",
    "del train_labels_jaffed\n",
    "#Reshaping Test Set\n",
    "test_set = np.reshape(test_set,[-1,80,60])\n",
    "test_set_jaffed = np.reshape(test_set_jaffed,[-1,80,60])\n",
    "test_set_94 = np.reshape(test_set_94,[-1,80,60])\n",
    "test_set = np.vstack((test_set,test_set_jaffed))\n",
    "del test_set_jaffed\n",
    "#Reshaping Test Labels\n",
    "test_labels = np.reshape(test_labels,[-1,])\n",
    "test_labels_jaffed = np.reshape(test_labels_jaffed,[-1,])\n",
    "test_labels_94 = np.reshape(test_labels_94,[-1,])\n",
    "test_labels = np.hstack((test_labels,test_labels_jaffed,test_labels_94))\n",
    "del test_labels_jaffed\n",
    "train_feat = np.zeros_like(train_set)\n",
    "test_feat = np.zeros_like(test_set)\n",
    "\n",
    "for k in range(train_feat.shape[0]):\n",
    "        train_feat[k,...] = local_binary_pattern(train_set[k,...],8,3)#,method='uniform')\n",
    "for k in range(test_feat.shape[0]):\n",
    "        test_feat[k,...] = local_binary_pattern(test_set[k,...],8,3)#,method='uniform')\n",
    "print(np.amax(test_feat))"
   ]
  },
  {
   "cell_type": "markdown",
   "metadata": {},
   "source": [
    "# Hog Features"
   ]
  },
  {
   "cell_type": "code",
   "execution_count": 23,
   "metadata": {},
   "outputs": [
    {
     "data": {
      "text/plain": [
       "(30, 4374)"
      ]
     },
     "execution_count": 23,
     "metadata": {},
     "output_type": "execute_result"
    }
   ],
   "source": [
    "from skimage.feature import hog,corner_fast\n",
    "#features_nums = faces.data.reshape(-1,62,47)\n",
    "train_hog_features = [hog(train_set[n,:,:],pixels_per_cell=(7,7)) for n in range(train_feat.shape[0])]\n",
    "train_hog_features = np.stack(train_hog_features,0)\n",
    "\n",
    "train_hog_features.shape\n",
    "\n",
    "test_hog_features = [hog(test_set[n,:,:],pixels_per_cell=(7,7)) for n in range(test_feat.shape[0])]\n",
    "test_hog_features = np.stack(test_hog_features,0)\n",
    "\n",
    "test_hog_features.shape"
   ]
  },
  {
   "cell_type": "markdown",
   "metadata": {},
   "source": [
    "# LBP"
   ]
  },
  {
   "cell_type": "code",
   "execution_count": 24,
   "metadata": {},
   "outputs": [
    {
     "name": "stdout",
     "output_type": "stream",
     "text": [
      "(295, 3136)\n",
      "(30, 3136)\n"
     ]
    }
   ],
   "source": [
    "# set the number of grids in x and y direction\n",
    "# divide the image into the specified number of grids\n",
    "# for each grid compute the histogram with 64 bins\n",
    "# concatenate the histogram from all grid regions to form a single feature\n",
    "# now we have one feature vector per image\n",
    "# Note that grid size and histogram bin sizes are variable\n",
    "x_grid = 7\n",
    "y_grid = 7\n",
    "grid_size_x = train_feat.shape[1]//x_grid\n",
    "grid_size_y = train_feat.shape[2]//y_grid\n",
    "for k in range(train_feat.shape[0]):\n",
    "    for x in range(x_grid):\n",
    "        for y in range(y_grid):\n",
    "            patch = train_feat[k,x*grid_size_x:(x+1)*grid_size_x,y*grid_size_y:(y+1)*grid_size_y]\n",
    "            hist,_ = np.histogram(patch.reshape(-1),bins=64)\n",
    "            if x==0 and y==0:\n",
    "                patch_hist_list = hist\n",
    "            else:\n",
    "                patch_hist_list = np.concatenate([patch_hist_list,hist],0)\n",
    "    if k==0:\n",
    "        data_hist = patch_hist_list[np.newaxis,...]\n",
    "    else:\n",
    "        data_hist = np.concatenate([data_hist,patch_hist_list[np.newaxis,...]],0)\n",
    "print(data_hist.shape)\n",
    "\n",
    "grid_size_x = test_feat.shape[1]//x_grid\n",
    "grid_size_y = test_feat.shape[2]//y_grid\n",
    "\n",
    "for k in range(test_feat.shape[0]):\n",
    "    for x in range(x_grid):\n",
    "        for y in range(y_grid):\n",
    "            patch = test_feat[k,x*grid_size_x:(x+1)*grid_size_x,y*grid_size_y:(y+1)*grid_size_y]\n",
    "            hist,_ = np.histogram(patch.reshape(-1),bins=64)\n",
    "            if x==0 and y==0:\n",
    "                patch_hist_list = hist\n",
    "            else:\n",
    "                patch_hist_list = np.concatenate([patch_hist_list,hist],0)\n",
    "    if k==0:\n",
    "        test_data_hist = patch_hist_list[np.newaxis,...]\n",
    "    else:\n",
    "        test_data_hist = np.concatenate([test_data_hist,patch_hist_list[np.newaxis,...]],0)\n",
    "print(test_data_hist.shape)"
   ]
  },
  {
   "cell_type": "markdown",
   "metadata": {},
   "source": [
    "# PCA (Hog to LBP)"
   ]
  },
  {
   "cell_type": "code",
   "execution_count": 25,
   "metadata": {},
   "outputs": [
    {
     "name": "stdout",
     "output_type": "stream",
     "text": [
      "((295, 3136), (30, 3136))\n"
     ]
    },
    {
     "data": {
      "text/plain": [
       "PCA(copy=True, iterated_power='auto', n_components=None, random_state=None,\n",
       "  svd_solver='auto', tol=0.0, whiten=True)"
      ]
     },
     "execution_count": 25,
     "metadata": {},
     "output_type": "execute_result"
    }
   ],
   "source": [
    "from sklearn.decomposition import PCA\n",
    "pca = PCA(whiten=True)\n",
    "#test_feat = test_hog_features\n",
    "#train_feat = train_hog_features\n",
    "train_feat = data_hist\n",
    "test_feat = test_data_hist\n",
    "print(train_feat.shape,test_feat.shape)\n",
    "pca.fit(train_feat)"
   ]
  },
  {
   "cell_type": "code",
   "execution_count": 26,
   "metadata": {},
   "outputs": [
    {
     "name": "stdout",
     "output_type": "stream",
     "text": [
      "156\n",
      "(295, 156)\n"
     ]
    }
   ],
   "source": [
    "# select number of components which explain 99% of the data variance\n",
    "n_components = np.argmin(np.cumsum(pca.explained_variance_ratio_)<=0.99)\n",
    "print(n_components)\n",
    "pca = PCA(n_components)\n",
    "\n",
    "train_feat_pca = pca.fit_transform(train_feat)\n",
    "#train_feat_pca = train_feat_pca[:,:n_components]\n",
    "test_feat_pca = pca.transform(test_feat)\n",
    "#test_feat_pca = test_feat_pca[:,:n_components]\n",
    "print(train_feat_pca.shape)"
   ]
  },
  {
   "cell_type": "markdown",
   "metadata": {},
   "source": [
    "# Make pairs of images with labels as positive pairs and negative pairs"
   ]
  },
  {
   "cell_type": "code",
   "execution_count": 27,
   "metadata": {},
   "outputs": [],
   "source": [
    "import itertools\n",
    "img_pair = []\n",
    "img_full_pair = []\n",
    "label_pair = []\n",
    "for pair in itertools.combinations_with_replacement(range(train_feat_pca.shape[0]),2):\n",
    "    img_pair.append(train_feat_pca[pair,:])\n",
    "    #img_full_pair.append(train_set[pair,:])\n",
    "    label_pair.append(train_labels[pair,])\n",
    "img_pair = np.stack(img_pair)\n"
   ]
  },
  {
   "cell_type": "code",
   "execution_count": 28,
   "metadata": {},
   "outputs": [],
   "source": [
    "#Careful of Memory Storage\n",
    "#img_full_pair = np.stack(img_full_pair)\n",
    "label_pair = np.stack(label_pair)\n",
    "label_pair = (label_pair[:,0] == label_pair[:,1])\n",
    "label_pair = label_pair*1"
   ]
  },
  {
   "cell_type": "code",
   "execution_count": 29,
   "metadata": {},
   "outputs": [],
   "source": [
    "test_img_pair = []\n",
    "test_label_pair = []\n",
    "for pair in itertools.combinations_with_replacement(range(test_feat.shape[0]),2):\n",
    "    test_img_pair.append(test_feat_pca[pair,...])\n",
    "    test_label_pair.append(test_labels[pair,])\n",
    "test_img_pair = np.stack(test_img_pair)\n",
    "test_label_pair = np.stack(test_label_pair)\n",
    "test_label_pair = (test_label_pair[:,0] == test_label_pair[:,1])\n",
    "test_label_pair = test_label_pair*1"
   ]
  },
  {
   "cell_type": "code",
   "execution_count": 30,
   "metadata": {},
   "outputs": [],
   "source": [
    "img_pair = np.abs(img_pair[:,0,...] - img_pair[:,1,...])\n",
    "test_img_pair = np.abs(test_img_pair[:,0,...] - test_img_pair[:,1,...])"
   ]
  },
  {
   "cell_type": "markdown",
   "metadata": {},
   "source": [
    "# Shuffle the Training Data and train the classifier"
   ]
  },
  {
   "cell_type": "code",
   "execution_count": 31,
   "metadata": {},
   "outputs": [
    {
     "data": {
      "text/plain": [
       "RandomForestClassifier(bootstrap=True, class_weight=None, criterion='gini',\n",
       "            max_depth=None, max_features='auto', max_leaf_nodes=None,\n",
       "            min_impurity_decrease=0.0, min_impurity_split=None,\n",
       "            min_samples_leaf=1, min_samples_split=2,\n",
       "            min_weight_fraction_leaf=0.0, n_estimators=20, n_jobs=1,\n",
       "            oob_score=False, random_state=None, verbose=0,\n",
       "            warm_start=False)"
      ]
     },
     "execution_count": 31,
     "metadata": {},
     "output_type": "execute_result"
    }
   ],
   "source": [
    "# shuffle the training data\n",
    "g = np.random.permutation(img_pair.shape[0])\n",
    "img_pair = img_pair[g,:]\n",
    "label_pair = label_pair[g,]\n",
    "\n",
    "from sklearn.ensemble import RandomForestClassifier\n",
    "rf = RandomForestClassifier(n_estimators = 20)\n",
    "rf.fit(img_pair,label_pair)"
   ]
  },
  {
   "cell_type": "code",
   "execution_count": 38,
   "metadata": {},
   "outputs": [
    {
     "data": {
      "text/plain": [
       "(43660,)"
      ]
     },
     "execution_count": 38,
     "metadata": {},
     "output_type": "execute_result"
    }
   ],
   "source": [
    "label_pair.shape"
   ]
  },
  {
   "cell_type": "markdown",
   "metadata": {},
   "source": [
    "# Hyper-Parameter Tuning"
   ]
  },
  {
   "cell_type": "code",
   "execution_count": null,
   "metadata": {},
   "outputs": [],
   "source": [
    "from sklearn.model_selection import GridSearchCV\n",
    "param_grid = {'n_estimators' : [10,20,30,40,50,100],'criterion' : ['entropy','gini']}\n",
    "grid_search = GridSearchCV(estimator = rf, param_grid = param_grid)\n",
    "grid_search.fit(img_pair,label_pair)\n",
    "print(grid_search.best_params_)\n",
    "print(grid_search.best_score_)"
   ]
  },
  {
   "cell_type": "markdown",
   "metadata": {},
   "source": [
    "# Evaluation "
   ]
  },
  {
   "cell_type": "code",
   "execution_count": 115,
   "metadata": {},
   "outputs": [
    {
     "name": "stdout",
     "output_type": "stream",
     "text": [
      "0.9870967741935484\n"
     ]
    }
   ],
   "source": [
    "print(rf.score(test_img_pair,test_label_pair))"
   ]
  },
  {
   "cell_type": "code",
   "execution_count": 116,
   "metadata": {},
   "outputs": [
    {
     "name": "stdout",
     "output_type": "stream",
     "text": [
      "0.9285714285714286\n"
     ]
    }
   ],
   "source": [
    "pred = rf.predict_proba(test_img_pair)\n",
    "from sklearn.metrics import f1_score\n",
    "print(f1_score(test_label_pair,rf.predict(test_img_pair)))"
   ]
  },
  {
   "cell_type": "code",
   "execution_count": 117,
   "metadata": {},
   "outputs": [
    {
     "name": "stdout",
     "output_type": "stream",
     "text": [
      "             precision    recall  f1-score   support\n",
      "\n",
      "          0       0.99      1.00      0.99       420\n",
      "          1       1.00      0.87      0.93        45\n",
      "\n",
      "avg / total       0.99      0.99      0.99       465\n",
      "\n"
     ]
    }
   ],
   "source": [
    "from sklearn.metrics import classification_report,confusion_matrix\n",
    "print(classification_report(test_label_pair,rf.predict(test_img_pair)))"
   ]
  },
  {
   "cell_type": "code",
   "execution_count": 118,
   "metadata": {},
   "outputs": [
    {
     "name": "stdout",
     "output_type": "stream",
     "text": [
      "[[420   0]\n",
      " [  6  39]]\n"
     ]
    }
   ],
   "source": [
    "print(confusion_matrix(test_label_pair,rf.predict(test_img_pair)))"
   ]
  },
  {
   "cell_type": "code",
   "execution_count": 119,
   "metadata": {},
   "outputs": [
    {
     "name": "stdout",
     "output_type": "stream",
     "text": [
      "('Number of thresholds evaluated: ', 37)\n"
     ]
    },
    {
     "ename": "RuntimeError",
     "evalue": "Could not create write struct",
     "output_type": "error",
     "traceback": [
      "\u001b[0;31m\u001b[0m",
      "\u001b[0;31mRuntimeError\u001b[0mTraceback (most recent call last)",
      "\u001b[0;32m/home/tg7797/anaconda2/lib/python2.7/site-packages/IPython/core/formatters.pyc\u001b[0m in \u001b[0;36m__call__\u001b[0;34m(self, obj)\u001b[0m\n\u001b[1;32m    332\u001b[0m                 \u001b[0;32mpass\u001b[0m\u001b[0;34m\u001b[0m\u001b[0m\n\u001b[1;32m    333\u001b[0m             \u001b[0;32melse\u001b[0m\u001b[0;34m:\u001b[0m\u001b[0;34m\u001b[0m\u001b[0m\n\u001b[0;32m--> 334\u001b[0;31m                 \u001b[0;32mreturn\u001b[0m \u001b[0mprinter\u001b[0m\u001b[0;34m(\u001b[0m\u001b[0mobj\u001b[0m\u001b[0;34m)\u001b[0m\u001b[0;34m\u001b[0m\u001b[0m\n\u001b[0m\u001b[1;32m    335\u001b[0m             \u001b[0;31m# Finally look for special method names\u001b[0m\u001b[0;34m\u001b[0m\u001b[0;34m\u001b[0m\u001b[0m\n\u001b[1;32m    336\u001b[0m             \u001b[0mmethod\u001b[0m \u001b[0;34m=\u001b[0m \u001b[0mget_real_method\u001b[0m\u001b[0;34m(\u001b[0m\u001b[0mobj\u001b[0m\u001b[0;34m,\u001b[0m \u001b[0mself\u001b[0m\u001b[0;34m.\u001b[0m\u001b[0mprint_method\u001b[0m\u001b[0;34m)\u001b[0m\u001b[0;34m\u001b[0m\u001b[0m\n",
      "\u001b[0;32m/home/tg7797/anaconda2/lib/python2.7/site-packages/IPython/core/pylabtools.pyc\u001b[0m in \u001b[0;36m<lambda>\u001b[0;34m(fig)\u001b[0m\n\u001b[1;32m    238\u001b[0m \u001b[0;34m\u001b[0m\u001b[0m\n\u001b[1;32m    239\u001b[0m     \u001b[0;32mif\u001b[0m \u001b[0;34m'png'\u001b[0m \u001b[0;32min\u001b[0m \u001b[0mformats\u001b[0m\u001b[0;34m:\u001b[0m\u001b[0;34m\u001b[0m\u001b[0m\n\u001b[0;32m--> 240\u001b[0;31m         \u001b[0mpng_formatter\u001b[0m\u001b[0;34m.\u001b[0m\u001b[0mfor_type\u001b[0m\u001b[0;34m(\u001b[0m\u001b[0mFigure\u001b[0m\u001b[0;34m,\u001b[0m \u001b[0;32mlambda\u001b[0m \u001b[0mfig\u001b[0m\u001b[0;34m:\u001b[0m \u001b[0mprint_figure\u001b[0m\u001b[0;34m(\u001b[0m\u001b[0mfig\u001b[0m\u001b[0;34m,\u001b[0m \u001b[0;34m'png'\u001b[0m\u001b[0;34m,\u001b[0m \u001b[0;34m**\u001b[0m\u001b[0mkwargs\u001b[0m\u001b[0;34m)\u001b[0m\u001b[0;34m)\u001b[0m\u001b[0;34m\u001b[0m\u001b[0m\n\u001b[0m\u001b[1;32m    241\u001b[0m     \u001b[0;32mif\u001b[0m \u001b[0;34m'retina'\u001b[0m \u001b[0;32min\u001b[0m \u001b[0mformats\u001b[0m \u001b[0;32mor\u001b[0m \u001b[0;34m'png2x'\u001b[0m \u001b[0;32min\u001b[0m \u001b[0mformats\u001b[0m\u001b[0;34m:\u001b[0m\u001b[0;34m\u001b[0m\u001b[0m\n\u001b[1;32m    242\u001b[0m         \u001b[0mpng_formatter\u001b[0m\u001b[0;34m.\u001b[0m\u001b[0mfor_type\u001b[0m\u001b[0;34m(\u001b[0m\u001b[0mFigure\u001b[0m\u001b[0;34m,\u001b[0m \u001b[0;32mlambda\u001b[0m \u001b[0mfig\u001b[0m\u001b[0;34m:\u001b[0m \u001b[0mretina_figure\u001b[0m\u001b[0;34m(\u001b[0m\u001b[0mfig\u001b[0m\u001b[0;34m,\u001b[0m \u001b[0;34m**\u001b[0m\u001b[0mkwargs\u001b[0m\u001b[0;34m)\u001b[0m\u001b[0;34m)\u001b[0m\u001b[0;34m\u001b[0m\u001b[0m\n",
      "\u001b[0;32m/home/tg7797/anaconda2/lib/python2.7/site-packages/IPython/core/pylabtools.pyc\u001b[0m in \u001b[0;36mprint_figure\u001b[0;34m(fig, fmt, bbox_inches, **kwargs)\u001b[0m\n\u001b[1;32m    122\u001b[0m \u001b[0;34m\u001b[0m\u001b[0m\n\u001b[1;32m    123\u001b[0m     \u001b[0mbytes_io\u001b[0m \u001b[0;34m=\u001b[0m \u001b[0mBytesIO\u001b[0m\u001b[0;34m(\u001b[0m\u001b[0;34m)\u001b[0m\u001b[0;34m\u001b[0m\u001b[0m\n\u001b[0;32m--> 124\u001b[0;31m     \u001b[0mfig\u001b[0m\u001b[0;34m.\u001b[0m\u001b[0mcanvas\u001b[0m\u001b[0;34m.\u001b[0m\u001b[0mprint_figure\u001b[0m\u001b[0;34m(\u001b[0m\u001b[0mbytes_io\u001b[0m\u001b[0;34m,\u001b[0m \u001b[0;34m**\u001b[0m\u001b[0mkw\u001b[0m\u001b[0;34m)\u001b[0m\u001b[0;34m\u001b[0m\u001b[0m\n\u001b[0m\u001b[1;32m    125\u001b[0m     \u001b[0mdata\u001b[0m \u001b[0;34m=\u001b[0m \u001b[0mbytes_io\u001b[0m\u001b[0;34m.\u001b[0m\u001b[0mgetvalue\u001b[0m\u001b[0;34m(\u001b[0m\u001b[0;34m)\u001b[0m\u001b[0;34m\u001b[0m\u001b[0m\n\u001b[1;32m    126\u001b[0m     \u001b[0;32mif\u001b[0m \u001b[0mfmt\u001b[0m \u001b[0;34m==\u001b[0m \u001b[0;34m'svg'\u001b[0m\u001b[0;34m:\u001b[0m\u001b[0;34m\u001b[0m\u001b[0m\n",
      "\u001b[0;32m/home/tg7797/anaconda2/lib/python2.7/site-packages/matplotlib/backend_bases.pyc\u001b[0m in \u001b[0;36mprint_figure\u001b[0;34m(self, filename, dpi, facecolor, edgecolor, orientation, format, **kwargs)\u001b[0m\n\u001b[1;32m   2214\u001b[0m                     \u001b[0morientation\u001b[0m\u001b[0;34m=\u001b[0m\u001b[0morientation\u001b[0m\u001b[0;34m,\u001b[0m\u001b[0;34m\u001b[0m\u001b[0m\n\u001b[1;32m   2215\u001b[0m                     \u001b[0mdryrun\u001b[0m\u001b[0;34m=\u001b[0m\u001b[0mTrue\u001b[0m\u001b[0;34m,\u001b[0m\u001b[0;34m\u001b[0m\u001b[0m\n\u001b[0;32m-> 2216\u001b[0;31m                     **kwargs)\n\u001b[0m\u001b[1;32m   2217\u001b[0m                 \u001b[0mrenderer\u001b[0m \u001b[0;34m=\u001b[0m \u001b[0mself\u001b[0m\u001b[0;34m.\u001b[0m\u001b[0mfigure\u001b[0m\u001b[0;34m.\u001b[0m\u001b[0m_cachedRenderer\u001b[0m\u001b[0;34m\u001b[0m\u001b[0m\n\u001b[1;32m   2218\u001b[0m                 \u001b[0mbbox_inches\u001b[0m \u001b[0;34m=\u001b[0m \u001b[0mself\u001b[0m\u001b[0;34m.\u001b[0m\u001b[0mfigure\u001b[0m\u001b[0;34m.\u001b[0m\u001b[0mget_tightbbox\u001b[0m\u001b[0;34m(\u001b[0m\u001b[0mrenderer\u001b[0m\u001b[0;34m)\u001b[0m\u001b[0;34m\u001b[0m\u001b[0m\n",
      "\u001b[0;32m/home/tg7797/anaconda2/lib/python2.7/site-packages/matplotlib/backends/backend_agg.pyc\u001b[0m in \u001b[0;36mprint_png\u001b[0;34m(self, filename_or_obj, *args, **kwargs)\u001b[0m\n\u001b[1;32m    524\u001b[0m         \u001b[0;32mtry\u001b[0m\u001b[0;34m:\u001b[0m\u001b[0;34m\u001b[0m\u001b[0m\n\u001b[1;32m    525\u001b[0m             _png.write_png(renderer._renderer, filename_or_obj,\n\u001b[0;32m--> 526\u001b[0;31m                            self.figure.dpi, metadata=metadata)\n\u001b[0m\u001b[1;32m    527\u001b[0m         \u001b[0;32mfinally\u001b[0m\u001b[0;34m:\u001b[0m\u001b[0;34m\u001b[0m\u001b[0m\n\u001b[1;32m    528\u001b[0m             \u001b[0;32mif\u001b[0m \u001b[0mclose\u001b[0m\u001b[0;34m:\u001b[0m\u001b[0;34m\u001b[0m\u001b[0m\n",
      "\u001b[0;31mRuntimeError\u001b[0m: Could not create write struct"
     ]
    },
    {
     "data": {
      "text/plain": [
       "<matplotlib.figure.Figure at 0x7fbd0e347dd0>"
      ]
     },
     "metadata": {},
     "output_type": "display_data"
    }
   ],
   "source": [
    "from sklearn.metrics import auc,precision_recall_curve\n",
    "precision,recall,thr = precision_recall_curve(test_label_pair, pred[:,1], pos_label=1)\n",
    "print('Number of thresholds evaluated: ',len(thr))\n",
    "plt.plot(recall,precision)\n",
    "plt.xlabel('recall')\n",
    "plt.ylabel('precision')\n",
    "plt.show()"
   ]
  },
  {
   "cell_type": "code",
   "execution_count": 121,
   "metadata": {},
   "outputs": [
    {
     "name": "stdout",
     "output_type": "stream",
     "text": [
      "('max f1-score:', 0.9411764705882353)\n",
      "('Area under Precision Recall Curve: ', 0.9502236292103102)\n"
     ]
    }
   ],
   "source": [
    "f1_score = (2*precision*recall)/(precision+recall)\n",
    "print('max f1-score:',np.amax(f1_score))\n",
    "pr_auc = auc(recall,precision)\n",
    "print('Area under Precision Recall Curve: ',pr_auc)"
   ]
  },
  {
   "cell_type": "markdown",
   "metadata": {},
   "source": [
    "# Testing"
   ]
  },
  {
   "cell_type": "code",
   "execution_count": 39,
   "metadata": {},
   "outputs": [],
   "source": [
    "import h5py\n",
    "\n",
    "filename = \"test1.h5\"\n",
    "f = h5py.File(filename, 'r')"
   ]
  },
  {
   "cell_type": "code",
   "execution_count": 40,
   "metadata": {},
   "outputs": [],
   "source": [
    "data = []\n",
    "label = []\n",
    "keys = list(f.keys())\n",
    "\n",
    "for i in range(len(keys)):\n",
    "    a_group_key = keys[i]\n",
    "    data.append(f[a_group_key][()])\n",
    "    label.append(a_group_key)\n",
    "    \n",
    "import pandas as pd\n",
    "pairs = pd.read_csv(\"image_pairs.csv\")\n",
    "pair1 = []\n",
    "pair2 = []\n",
    "\n",
    "for i in range(len(pairs)):\n",
    "    if pairs[\"pair1\"][i] > 100:\n",
    "        pair1.append(pairs[\"pair1\"][i] - 100)\n",
    "    else:\n",
    "        pair1.append(pairs[\"pair1\"][i] - 20)\n",
    "        \n",
    "    if pairs[\"pair2\"][i] > 100:\n",
    "        pair2.append(pairs[\"pair2\"][i] - 100)\n",
    "    else:\n",
    "        pair2.append(pairs[\"pair2\"][i] - 20)\n",
    "        \n",
    "        \n",
    "pair3 = np.column_stack((pair1, pair2))\n",
    "img_full_pair1 = []\n",
    "img_full_pair2 = []\n",
    "for x in pair3:\n",
    "    img_full_pair1.append(data[x[0]])\n",
    "    img_full_pair2.append(data[x[1]])\n",
    "    "
   ]
  },
  {
   "cell_type": "code",
   "execution_count": 41,
   "metadata": {},
   "outputs": [],
   "source": [
    "face1 = np.zeros((len(data),80,60))\n",
    "full_face = []\n",
    "\n",
    "for i in range(len(data)):\n",
    "        #face1[i,...] = cv2.resize(data[15], (60, 80))\n",
    "        faces = faceCascade.detectMultiScale(\n",
    "            data[i],\n",
    "            scaleFactor=1.1,\n",
    "            minNeighbors=5,\n",
    "            minSize=(30, 30))\n",
    "        if len(faces) == 0:\n",
    "            face1[i,...] = cv2.resize(data[i], (60, 80))\n",
    "        else:\n",
    "\n",
    "            x,y,h,w = faces[0]\n",
    "            face1[i,...] = zoom(data[i][y:y+h,x:x+w],[80./h,60./w])\n",
    "    #labels = (j-1)*np.ones((11,))\n",
    "full_face.append(face1)\n",
    "        #full_labels.append(labels)\n",
    "full_face = np.stack(full_face)    # contains the images of all faces\n",
    "#full_labels = np.stack(full_labels)   # contains the ID of all the faces"
   ]
  },
  {
   "cell_type": "markdown",
   "metadata": {},
   "source": [
    "# LBP and Hog"
   ]
  },
  {
   "cell_type": "code",
   "execution_count": 42,
   "metadata": {},
   "outputs": [
    {
     "name": "stdout",
     "output_type": "stream",
     "text": [
      "(120, 3136)\n"
     ]
    }
   ],
   "source": [
    "#Gaussian Blur\n",
    "#face1 = gaussian_blur(face1)\n",
    "\n",
    "from skimage.feature import hog,corner_fast\n",
    "patch_shape = []\n",
    "\n",
    "\n",
    "x_grid = 7\n",
    "y_grid = 7\n",
    "grid_size_x = face1.shape[1]//x_grid\n",
    "grid_size_y = face1.shape[2]//y_grid\n",
    "for k in range(face1.shape[0]):\n",
    "    for x in range(x_grid):\n",
    "        for y in range(y_grid):\n",
    "            patch = face1[k,x*grid_size_x:(x+1)*grid_size_x,y*grid_size_y:(y+1)*grid_size_y]\n",
    "            hist,_ = np.histogram(patch.reshape(-1),bins=64)\n",
    "            patch_shape.append(np.shape(patch))\n",
    "           \n",
    "           \n",
    "            #hog(features_nums[n,:,:],pixels_per_cell=(7,7)\n",
    "            if x==0 and y==0:\n",
    "                patch_hist_list = hist\n",
    "            else:\n",
    "                patch_hist_list = np.concatenate([patch_hist_list,hist],0)\n",
    "    if k==0:\n",
    "        data_hist = patch_hist_list[np.newaxis,...]\n",
    "    else:\n",
    "        data_hist = np.concatenate([data_hist,patch_hist_list[np.newaxis,...]],0)\n",
    "print(data_hist.shape)\n",
    "\n",
    "\n",
    "from skimage.feature import hog,corner_fast\n",
    "#features_nums = faces.data.reshape(-1,62,47)\n",
    "hog_features = [hog(face1[n,:,:],pixels_per_cell=(7,7)) for n in range(face1.shape[0])]\n",
    "hog_features = np.stack(hog_features,0)\n"
   ]
  },
  {
   "cell_type": "code",
   "execution_count": 43,
   "metadata": {},
   "outputs": [
    {
     "name": "stdout",
     "output_type": "stream",
     "text": [
      "(120, 156)\n"
     ]
    }
   ],
   "source": [
    "#train_feat1 = hog_features\n",
    "train_feat1 = data_hist\n",
    "\n",
    "train_feat_pca1 = pca.transform(train_feat1)\n",
    "print(train_feat_pca1.shape)"
   ]
  },
  {
   "cell_type": "code",
   "execution_count": 44,
   "metadata": {},
   "outputs": [],
   "source": [
    "test_img = []\n",
    "for i in range(len(pair1)):\n",
    "    test_img.append(np.abs(train_feat_pca[pair1[i]] - train_feat_pca[pair2[i]]))"
   ]
  },
  {
   "cell_type": "code",
   "execution_count": 45,
   "metadata": {},
   "outputs": [
    {
     "data": {
      "text/plain": [
       "418"
      ]
     },
     "execution_count": 45,
     "metadata": {},
     "output_type": "execute_result"
    }
   ],
   "source": [
    "pred = rf.predict(test_img)\n",
    "sum(pred)"
   ]
  },
  {
   "cell_type": "code",
   "execution_count": 49,
   "metadata": {},
   "outputs": [],
   "source": [
    "import pandas as pd \n",
    "df = pd.DataFrame(pred)\n",
    "df.index.name = 'Id'\n",
    "df.columns = ['Expected']\n",
    "df.to_csv(\"sub5.csv\")"
   ]
  },
  {
   "cell_type": "code",
   "execution_count": 51,
   "metadata": {},
   "outputs": [],
   "source": [
    "for i in range(len(df)):\n",
    "    df['Expected'][i] = 0"
   ]
  },
  {
   "cell_type": "code",
   "execution_count": 54,
   "metadata": {},
   "outputs": [],
   "source": [
    "df.to_csv(\"sub5.csv\")"
   ]
  },
  {
   "cell_type": "code",
   "execution_count": 56,
   "metadata": {},
   "outputs": [
    {
     "data": {
      "text/plain": [
       "318.59999999999997"
      ]
     },
     "execution_count": 56,
     "metadata": {},
     "output_type": "execute_result"
    }
   ],
   "source": [
    "0.09*len(pred)"
   ]
  },
  {
   "cell_type": "code",
   "execution_count": 59,
   "metadata": {},
   "outputs": [
    {
     "data": {
      "text/plain": [
       "(295, 156)"
      ]
     },
     "execution_count": 59,
     "metadata": {},
     "output_type": "execute_result"
    }
   ],
   "source": [
    "train_feat_pca.shape"
   ]
  },
  {
   "cell_type": "code",
   "execution_count": null,
   "metadata": {},
   "outputs": [],
   "source": []
  }
 ],
 "metadata": {
  "kernelspec": {
   "display_name": "Python 2",
   "language": "python",
   "name": "python2"
  },
  "language_info": {
   "codemirror_mode": {
    "name": "ipython",
    "version": 2
   },
   "file_extension": ".py",
   "mimetype": "text/x-python",
   "name": "python",
   "nbconvert_exporter": "python",
   "pygments_lexer": "ipython2",
   "version": "2.7.14"
  }
 },
 "nbformat": 4,
 "nbformat_minor": 2
}
