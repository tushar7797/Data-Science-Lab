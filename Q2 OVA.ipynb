{
 "cells": [
  {
   "cell_type": "code",
   "execution_count": 29,
   "metadata": {},
   "outputs": [],
   "source": [
    "def unpickle(file):\n",
    "    import cPickle\n",
    "    with open(file, 'rb') as fo:\n",
    "        dict = cPickle.load(fo)\n",
    "    return dict\n",
    "\n",
    "train1 = unpickle('./cifar-10-batches-py/data_batch_1')\n",
    "train2 = unpickle('./cifar-10-batches-py/data_batch_2')\n",
    "train3 = unpickle('./cifar-10-batches-py/data_batch_3')\n",
    "train4 = unpickle('./cifar-10-batches-py/data_batch_4')\n",
    "train5 = unpickle('./cifar-10-batches-py/data_batch_5')\n",
    "test = unpickle('./cifar-10-batches-py/test_batch')\n",
    "\n",
    "import numpy as np\n",
    "xtrain1 = np.concatenate((train1['data'] , train2['data'], train3['data'],train4['data'], train5['data']))\n",
    "\n",
    "xtrain = train1['data'] \n",
    "\n",
    "ytrain1 = np.concatenate((train1['labels'] , train2['labels'], train3['labels'],train4['labels'], train5['labels']))\n",
    "ytrain = train1['labels']"
   ]
  },
  {
   "cell_type": "code",
   "execution_count": 30,
   "metadata": {},
   "outputs": [],
   "source": [
    "from sklearn.model_selection import train_test_split\n",
    "from sklearn.linear_model import LogisticRegression   \n",
    "import time\n"
   ]
  },
  {
   "cell_type": "code",
   "execution_count": 31,
   "metadata": {},
   "outputs": [
    {
     "name": "stdout",
     "output_type": "stream",
     "text": [
      "507.507494926\n"
     ]
    }
   ],
   "source": [
    "start = time.time()\n",
    "\n",
    "models = []\n",
    "test_scores = []\n",
    "train_scores = []\n",
    "for a in range(0,10):\n",
    "    ytrain_temp = []\n",
    "    for i in range(0,len(ytrain1)):\n",
    "        if (ytrain1[i] != a):\n",
    "            ytrain_temp.append(1)\n",
    "        else: \n",
    "            ytrain_temp.append(0)\n",
    "                \n",
    "    X_train, X_test, y_train, y_test = train_test_split(xtrain1, ytrain_temp,random_state=42,test_size=0.25)\n",
    "    clf = LogisticRegression(solver = 'sag', n_jobs=-1, max_iter=50)\n",
    "    \n",
    "    clf.fit(X_train,y_train)\n",
    "    models.append(clf)\n",
    "    test_scores.append(clf.score(X_test,y_test))\n",
    "    train_scores.append(clf.score(X_train, y_train))\n",
    "    \n",
    "end = time.time()\n",
    "print(end-start)"
   ]
  },
  {
   "cell_type": "code",
   "execution_count": 32,
   "metadata": {},
   "outputs": [],
   "source": [
    "xtest = test['data']\n",
    "ytest = test['labels']\n",
    "\n",
    "import numpy as np\n",
    "predictions = []\n",
    "probab = np.zeros((len(xtest), 10))\n",
    "for a in range(0,10):\n",
    "    probab[:,a] = models[a].predict_proba(xtest)[:,0]\n"
   ]
  },
  {
   "cell_type": "code",
   "execution_count": 33,
   "metadata": {},
   "outputs": [],
   "source": [
    "for x in probab:\n",
    "    for i in range(0,10):\n",
    "        if (x[i] == np.max(x)):\n",
    "            predictions.append(i)"
   ]
  },
  {
   "cell_type": "code",
   "execution_count": 34,
   "metadata": {},
   "outputs": [
    {
     "data": {
      "text/plain": [
       "0.3902"
      ]
     },
     "execution_count": 34,
     "metadata": {},
     "output_type": "execute_result"
    }
   ],
   "source": [
    "from sklearn.metrics import accuracy_score\n",
    "accuracy_score(predictions, ytest)"
   ]
  },
  {
   "cell_type": "code",
   "execution_count": 5,
   "metadata": {},
   "outputs": [],
   "source": [
    "a = []\n",
    "a.append([1,2])\n",
    "a.append([3,4])"
   ]
  },
  {
   "cell_type": "code",
   "execution_count": 6,
   "metadata": {},
   "outputs": [
    {
     "data": {
      "text/plain": [
       "[[1, 2], [3, 4]]"
      ]
     },
     "execution_count": 6,
     "metadata": {},
     "output_type": "execute_result"
    }
   ],
   "source": [
    "a\n"
   ]
  },
  {
   "cell_type": "code",
   "execution_count": null,
   "metadata": {},
   "outputs": [],
   "source": []
  }
 ],
 "metadata": {
  "kernelspec": {
   "display_name": "Python 2",
   "language": "python",
   "name": "python2"
  },
  "language_info": {
   "codemirror_mode": {
    "name": "ipython",
    "version": 2
   },
   "file_extension": ".py",
   "mimetype": "text/x-python",
   "name": "python",
   "nbconvert_exporter": "python",
   "pygments_lexer": "ipython2",
   "version": "2.7.14"
  }
 },
 "nbformat": 4,
 "nbformat_minor": 2
}
