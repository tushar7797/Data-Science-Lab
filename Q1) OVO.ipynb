{
 "cells": [
  {
   "cell_type": "code",
   "execution_count": 1,
   "metadata": {},
   "outputs": [],
   "source": [
    "def unpickle(file):\n",
    "    import cPickle\n",
    "    with open(file, 'rb') as fo:\n",
    "        dict = cPickle.load(fo)\n",
    "    return dict\n",
    "\n",
    "train1 = unpickle('./cifar-10-batches-py/data_batch_1')\n",
    "train2 = unpickle('./cifar-10-batches-py/data_batch_2')\n",
    "train3 = unpickle('./cifar-10-batches-py/data_batch_3')\n",
    "train4 = unpickle('./cifar-10-batches-py/data_batch_4')\n",
    "train5 = unpickle('./cifar-10-batches-py/data_batch_5')\n",
    "test = unpickle('./cifar-10-batches-py/test_batch')\n",
    "\n",
    "import numpy as np\n",
    "xtrain = np.concatenate((train1['data'] , train2['data'], train3['data'],train4['data'], train5['data']))\n",
    "\n",
    "xtrain1 = train1['data'] \n",
    "\n",
    "ytrain = np.concatenate((train1['labels'] , train2['labels'], train3['labels'],train4['labels'], train5['labels']))\n",
    "ytrain1 = train1['labels']\n",
    "\n",
    "xtrain1 = []\n",
    "ytrain1 = []\n",
    "for i in range(1,len(ytrain)):\n",
    "    if ((ytrain[i] == 0) or  (ytrain[i] == 1) or (ytrain[i] == 2)):\n",
    "        xtrain1.append(xtrain[i])\n",
    "        ytrain1.append(ytrain[i])"
   ]
  },
  {
   "cell_type": "code",
   "execution_count": 3,
   "metadata": {},
   "outputs": [
    {
     "name": "stdout",
     "output_type": "stream",
     "text": [
      "Training set score: 0.846\n",
      "Test set score: 0.806\n"
     ]
    }
   ],
   "source": [
    "xtrain11 = []\n",
    "ytrain11 = []\n",
    "for i in range(1,len(ytrain)):\n",
    "    if ((ytrain[i] == 0) or  (ytrain[i] == 1)):\n",
    "        xtrain11.append(xtrain[i])\n",
    "        ytrain11.append(ytrain[i])\n",
    "        \n",
    "from sklearn.model_selection import train_test_split\n",
    "X_train, X_test, y_train, y_test = train_test_split(xtrain11, ytrain11,random_state=42,test_size=0.25, )\n",
    "\n",
    "from sklearn.linear_model import LogisticRegression\n",
    "clf01 = LogisticRegression(solver = 'sag', n_jobs=-1, max_iter=50)\n",
    "clf01.fit(X_train, y_train,)\n",
    "print(\"Training set score: {:.3f}\".format(clf01.score(X_train, y_train)))\n",
    "print(\"Test set score: {:.3f}\".format(clf01.score(X_test, y_test)))"
   ]
  },
  {
   "cell_type": "code",
   "execution_count": 4,
   "metadata": {},
   "outputs": [
    {
     "name": "stdout",
     "output_type": "stream",
     "text": [
      "Training set score: 0.827\n",
      "Test set score: 0.779\n"
     ]
    }
   ],
   "source": [
    "xtrain11 = []\n",
    "ytrain11 = []\n",
    "for i in range(1,len(ytrain)):\n",
    "    if ((ytrain[i] == 0) or  (ytrain[i] == 2)):\n",
    "        xtrain11.append(xtrain[i])\n",
    "        ytrain11.append(ytrain[i])\n",
    "        \n",
    "from sklearn.model_selection import train_test_split\n",
    "X_train, X_test, y_train, y_test = train_test_split(xtrain11, ytrain11,random_state=42,test_size=0.25)\n",
    "\n",
    "from sklearn.linear_model import LogisticRegression\n",
    "clf02 = LogisticRegression(solver = 'sag', n_jobs=-1, max_iter=50)\n",
    "clf02.fit(X_train, y_train)\n",
    "print(\"Training set score: {:.3f}\".format(clf02.score(X_train, y_train)))\n",
    "print(\"Test set score: {:.3f}\".format(clf02.score(X_test, y_test)))"
   ]
  },
  {
   "cell_type": "code",
   "execution_count": 5,
   "metadata": {},
   "outputs": [
    {
     "name": "stdout",
     "output_type": "stream",
     "text": [
      "Training set score: 0.870\n",
      "Test set score: 0.826\n"
     ]
    }
   ],
   "source": [
    "xtrain11 = []\n",
    "ytrain11 = []\n",
    "for i in range(1,len(ytrain)):\n",
    "    if ((ytrain[i] == 2) or  (ytrain[i] == 1)):\n",
    "        xtrain11.append(xtrain[i])\n",
    "        ytrain11.append(ytrain[i])\n",
    "        \n",
    "from sklearn.model_selection import train_test_split\n",
    "X_train, X_test, y_train, y_test = train_test_split(xtrain11, ytrain11,random_state=42,test_size=0.25)\n",
    "\n",
    "from sklearn.linear_model import LogisticRegression\n",
    "clf12 = LogisticRegression(solver = 'sag', n_jobs=-1, max_iter=50)\n",
    "clf12.fit(X_train, y_train,)\n",
    "print(\"Training set score: {:.3f}\".format(clf12.score(X_train, y_train)))\n",
    "print(\"Test set score: {:.3f}\".format(clf12.score(X_test, y_test)))"
   ]
  },
  {
   "cell_type": "code",
   "execution_count": 7,
   "metadata": {},
   "outputs": [
    {
     "data": {
      "text/plain": [
       "0.711"
      ]
     },
     "execution_count": 7,
     "metadata": {},
     "output_type": "execute_result"
    }
   ],
   "source": [
    "xtest = test['data']\n",
    "ytest = test['labels']\n",
    "\n",
    "xtest11 = []\n",
    "ytest11 = []\n",
    "for i in range(0,len(ytest)):\n",
    "    if ((ytest[i] == 0) or  (ytest[i] == 1)or  (ytest[i] == 2)):\n",
    "        xtest11.append(xtest[i])\n",
    "        ytest11.append(ytest[i])\n",
    "        \n",
    "pred01 = clf01.predict(xtest11)\n",
    "pred02 = clf02.predict(xtest11)\n",
    "pred12 = clf12.predict(xtest11)\n",
    "pred = []\n",
    "\n",
    "for i in range(0,len(pred01)):\n",
    "    lst = [pred01[i],pred02[i],pred12[i]]\n",
    "    pred.append(max(lst,key=lst.count))\n",
    "    \n",
    "from sklearn.metrics import accuracy_score    \n",
    "accuracy_score(pred, ytest11)"
   ]
  }
 ],
 "metadata": {
  "kernelspec": {
   "display_name": "Python 2",
   "language": "python",
   "name": "python2"
  },
  "language_info": {
   "codemirror_mode": {
    "name": "ipython",
    "version": 2
   },
   "file_extension": ".py",
   "mimetype": "text/x-python",
   "name": "python",
   "nbconvert_exporter": "python",
   "pygments_lexer": "ipython2",
   "version": "2.7.14"
  }
 },
 "nbformat": 4,
 "nbformat_minor": 2
}
